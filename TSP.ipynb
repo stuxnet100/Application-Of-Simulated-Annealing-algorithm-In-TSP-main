{
  "nbformat": 4,
  "nbformat_minor": 0,
  "metadata": {
    "colab": {
      "name": "213190006_IE684_Lab11_Ex2 .ipynb",
      "provenance": [],
      "collapsed_sections": []
    },
    "kernelspec": {
      "name": "python3",
      "display_name": "Python 3"
    },
    "language_info": {
      "name": "python"
    }
  },
  "cells": [
    {
      "cell_type": "code",
      "execution_count": null,
      "metadata": {
        "id": "n_mj7OpthcN9"
      },
      "outputs": [],
      "source": [
        "import numpy as np\n",
        "import random\n",
        "import matplotlib.pyplot as plt"
      ]
    },
    {
      "cell_type": "code",
      "source": [
        ""
      ],
      "metadata": {
        "id": "Jl9pCQTVoY2o"
      },
      "execution_count": null,
      "outputs": []
    },
    {
      "cell_type": "markdown",
      "source": [
        "# **Ans1**  \n",
        "# the Traveling Salesperson Problem (TSP): find the shortest route for a salesperson who needs to visit customers at different locations and return to the starting point.  \n",
        "# The number of vehicles in the problem is 1 .  \n"
      ],
      "metadata": {
        "id": "avAp10zKq7rb"
      }
    },
    {
      "cell_type": "code",
      "source": [
        "distance= np.loadtxt(open('TSP11.csv', \"rb\"),delimiter=\",\")\n",
        "\n",
        "distance"
      ],
      "metadata": {
        "colab": {
          "base_uri": "https://localhost:8080/"
        },
        "id": "o-n_0Y7Phg-4",
        "outputId": "faa047b0-881e-4e5d-87e5-8370ec65c406"
      },
      "execution_count": null,
      "outputs": [
        {
          "output_type": "execute_result",
          "data": {
            "text/plain": [
              "array([[  0.,  29.,  20.,  21.,  16.,  31., 100.,  12.,   4.,  31.,  18.],\n",
              "       [ 29.,   0.,  15.,  29.,  28.,  40.,  72.,  21.,  29.,  41.,  12.],\n",
              "       [ 20.,  15.,   0.,  15.,  14.,  25.,  81.,   9.,  23.,  27.,  13.],\n",
              "       [ 21.,  29.,  15.,   0.,   4.,  12.,  92.,  12.,  25.,  13.,  25.],\n",
              "       [ 16.,  28.,  14.,   4.,   0.,  16.,  94.,   9.,  20.,  16.,  22.],\n",
              "       [ 31.,  40.,  25.,  12.,  16.,   0.,  95.,  24.,  36.,   3.,  37.],\n",
              "       [100.,  72.,  81.,  92.,  94.,  95.,   0.,  90., 101.,  99.,  84.],\n",
              "       [ 12.,  21.,   9.,  12.,   9.,  24.,  90.,   0.,  15.,  25.,  13.],\n",
              "       [  4.,  29.,  23.,  25.,  20.,  36., 101.,  15.,   0.,  35.,  18.],\n",
              "       [ 31.,  41.,  27.,  13.,  16.,   3.,  99.,  25.,  35.,   0.,  38.],\n",
              "       [ 18.,  12.,  13.,  25.,  22.,  37.,  84.,  13.,  18.,  38.,   0.]])"
            ]
          },
          "metadata": {},
          "execution_count": 2
        }
      ]
    },
    {
      "cell_type": "code",
      "source": [
        "def random_intial_solution(N):\n",
        "  To=np.arange(0,N,1)\n",
        "  np.random.shuffle(To)\n",
        "  return To"
      ],
      "metadata": {
        "id": "ohTOZeyRozD5"
      },
      "execution_count": null,
      "outputs": []
    },
    {
      "cell_type": "markdown",
      "source": [
        "# **Ans4**\n",
        "# Cost"
      ],
      "metadata": {
        "id": "N1FTGfR1Aklz"
      }
    },
    {
      "cell_type": "code",
      "source": [
        "def cost(T):\n",
        "  cost=[[0]]\n",
        "  for i in range(10):\n",
        "    cost=cost+distance[T[i],T[i+1]]\n",
        "  cost=cost +distance[T[i+1],T[0]]\n",
        "  return cost"
      ],
      "metadata": {
        "id": "rWYw-oL5p5jD"
      },
      "execution_count": null,
      "outputs": []
    },
    {
      "cell_type": "markdown",
      "source": [
        "# **Ans5**\n",
        "# Neighbours"
      ],
      "metadata": {
        "id": "-414XFbMATx2"
      }
    },
    {
      "cell_type": "code",
      "source": [
        "def neighbours(R):\n",
        "  T_neighb=[]\n",
        "  n=len(R)-1\n",
        "  # R=list(np.arange(0,11,1))\n",
        "  T=list(R)\n",
        "  for i in range(n):\n",
        "    a=T[i+1]\n",
        "    T[i+1]=T[i]\n",
        "    T[i]=a\n",
        "    T_neighb.append(T)\n",
        "    T=list(R)\n",
        "    a=[]\n",
        "  a=T[n]\n",
        "  T[n]=T[n]\n",
        "  T[n]=a\n",
        "  T_neighb.append(T)\n",
        "  j=np.random.randint(0,len(R))\n",
        "  return  T_neighb[j]"
      ],
      "metadata": {
        "id": "gCMNbpUCsMKZ"
      },
      "execution_count": null,
      "outputs": []
    },
    {
      "cell_type": "markdown",
      "source": [
        "# **Ans6**"
      ],
      "metadata": {
        "id": "sh9fW7M4AMhI"
      }
    },
    {
      "cell_type": "code",
      "source": [
        "def accept_prob(cost_N,cost_C,Tk):\n",
        "  diff=np.array(cost_N)-np.array(cost_C)\n",
        "  mac=np.exp((-diff)/Tk)\n",
        "  R=np.random.rand()\n",
        "  if R<mac:\n",
        "    return cost_N\n",
        "  return cost_C\n"
      ],
      "metadata": {
        "id": "6v34xkXlRVdU"
      },
      "execution_count": null,
      "outputs": []
    },
    {
      "cell_type": "markdown",
      "source": [
        "# **1**\n",
        "# **Two things can happen here:**\n",
        "\n",
        "# 1-  If performance Increases in the new set then the new feature set is Accepted.\n",
        "# 2-  If the performance of the new feature set has worse performance, then the Acceptance Probability (otherwise called metropolis acceptance criterion) is calculated.  \n",
        "\n",
        "# Once the acceptance probability is calculated,  \n",
        "#  generate a random number between   0 and 1 :\n",
        "\n",
        "# 1- If the Random Number > Acceptance Probability then the new feature set is Rejected and the previous feature set will be continued to be used.\n",
        "# 2- If the Random Number < Acceptance Probability then the new feature set is Accepted.\n",
        "\n",
        "# **The impact of randomness by this process helps simulated annealing to not get stuck at local optimums in search of a global optimum.**  \n",
        "\n",
        "\n",
        "\n",
        "\n",
        "# **2**  \n",
        "\n",
        "\n",
        "# When the temperature is high the chances of worse-performing features getting accepted is high and as the no. of iterations goes up, temperature decreases, and that in turn decreases the chances of worse-performing features getting accepted."
      ],
      "metadata": {
        "id": "12PVVhix9HOT"
      }
    },
    {
      "cell_type": "code",
      "source": [
        "def best_solution(To,max_itr,alp,T):\n",
        "  k=0\n",
        "  R=To\n",
        "  all_cost=[]\n",
        "  Tk=T\n",
        "  cost_N=[]\n",
        "  best=[]\n",
        "  cost_To1=[]\n",
        "  cost_To=cost(R)\n",
        "  while k<max_itr:\n",
        "    N=neighbours(R)\n",
        "    # R=np.zeros(11)\n",
        "    # print(n)\n",
        "    Tk=alp*Tk\n",
        "    cost_N=cost(N)\n",
        "    # print(min(cost_N))\n",
        "    # print(cost_N,'l')\n",
        "    if cost_N<cost_To:\n",
        "      cost_To=cost_N\n",
        "      R=N\n",
        "    else :\n",
        "      cost_To=accept_prob(cost_N,cost_To,Tk)\n",
        "      R=N\n",
        "    best.append(R)\n",
        "    all_cost.append(cost_To)\n",
        "    k=k+1\n",
        "    # best.append(R)\n",
        "    # all_cost.append(cost_To)\n",
        "  print('alpha is',alp)\n",
        "  print('optimal distance for TSP problem',min(all_cost))\n",
        "  print('optimal route for TSP problem',best[all_cost.index(min(all_cost))])\n",
        "  return min(all_cost),best[all_cost.index(min(all_cost))], best,np.array(all_cost)\n"
      ],
      "metadata": {
        "id": "NCPxX8-g_G5-"
      },
      "execution_count": null,
      "outputs": []
    },
    {
      "cell_type": "code",
      "source": [
        "To= random_intial_solution(11)\n",
        "max_itr=20000\n",
        "alp=0.8\n",
        "T=1\n",
        "optimal=best_solution(To,max_itr,alp,T)"
      ],
      "metadata": {
        "id": "82nWyKlWM6Nj",
        "colab": {
          "base_uri": "https://localhost:8080/"
        },
        "outputId": "35816231-4deb-4c20-be24-7ba79c77aed5"
      },
      "execution_count": null,
      "outputs": [
        {
          "output_type": "stream",
          "name": "stderr",
          "text": [
            "/usr/local/lib/python3.7/dist-packages/ipykernel_launcher.py:3: RuntimeWarning: overflow encountered in true_divide\n",
            "  This is separate from the ipykernel package so we can avoid doing imports until\n"
          ]
        },
        {
          "output_type": "stream",
          "name": "stdout",
          "text": [
            "alpha is 0.8\n",
            "optimal distance for TSP problem [[265.]]\n",
            "optimal route for TSP problem [4, 0, 8, 7, 2, 10, 1, 6, 3, 9, 5]\n"
          ]
        }
      ]
    },
    {
      "cell_type": "markdown",
      "source": [
        "# **Ans8**\n",
        "# **For diffrent values of Alpha**"
      ],
      "metadata": {
        "id": "gOgYuVTDdTc6"
      }
    },
    {
      "cell_type": "code",
      "source": [
        "alp=np.array([0.8,0.84,0.88,0.92,0.98])\n",
        "cost_value=[]\n",
        "T=1\n",
        "max_itr=10000\n",
        "for i in range(len(alp)):\n",
        "  To= random_intial_solution(11)\n",
        "  optimal=best_solution(To,max_itr,alp[i],T)\n",
        "  cost_value.append(optimal[3])\n",
        "\n",
        "\n",
        "\n"
      ],
      "metadata": {
        "colab": {
          "base_uri": "https://localhost:8080/"
        },
        "id": "5uynHvF0Ih-k",
        "outputId": "48689587-bef1-4731-90b8-2803845e25d8"
      },
      "execution_count": null,
      "outputs": [
        {
          "output_type": "stream",
          "name": "stderr",
          "text": [
            "/usr/local/lib/python3.7/dist-packages/ipykernel_launcher.py:3: RuntimeWarning: overflow encountered in true_divide\n",
            "  This is separate from the ipykernel package so we can avoid doing imports until\n"
          ]
        },
        {
          "output_type": "stream",
          "name": "stdout",
          "text": [
            "alpha is 0.8\n",
            "optimal distance for TSP problem [[263.]]\n",
            "optimal route for TSP problem [0, 8, 7, 10, 1, 6, 2, 4, 9, 5, 3]\n",
            "alpha is 0.84\n",
            "optimal distance for TSP problem [[262.]]\n",
            "optimal route for TSP problem [9, 5, 4, 7, 2, 6, 1, 10, 0, 8, 3]\n",
            "alpha is 0.88\n",
            "optimal distance for TSP problem [[274.]]\n",
            "optimal route for TSP problem [6, 7, 4, 3, 9, 5, 0, 8, 2, 10, 1]\n",
            "alpha is 0.92\n",
            "optimal distance for TSP problem [[275.]]\n",
            "optimal route for TSP problem [10, 1, 6, 4, 3, 9, 5, 2, 8, 0, 7]\n",
            "alpha is 0.98\n",
            "optimal distance for TSP problem [[255.]]\n",
            "optimal route for TSP problem [7, 3, 5, 9, 4, 0, 8, 10, 1, 6, 2]\n"
          ]
        }
      ]
    },
    {
      "cell_type": "code",
      "source": [
        "plt.figure(figsize=(15,10))\n",
        "plt.plot(cost_value[0].reshape(len(cost_value[0]),1),color='black',label='alpha=0.8')\n",
        "plt.plot(cost_value[1].reshape(len(cost_value[1]),1),color='blue',label='alpha=0.84')\n",
        "plt.plot(cost_value[2].reshape(len(cost_value[2]),1),color='yellow',label='alpha=0.88')\n",
        "plt.plot(cost_value[3].reshape(len(cost_value[3]),1),color='green',label='alpha=0.92')\n",
        "plt.plot(cost_value[4].reshape(len(cost_value[4]),1),color='orange',label='alpha=0.98')\n",
        "plt.grid()\n",
        "plt.title(r'Cost at diffrent iterations for diffrent alpha values')\n",
        "plt.xlabel(\"X-axis\")\n",
        "plt.ylabel(\"Y-axis\")\n",
        "plt.legend()\n",
        "plt.show()"
      ],
      "metadata": {
        "colab": {
          "base_uri": "https://localhost:8080/",
          "height": 621
        },
        "id": "D1o6BJF4Mygg",
        "outputId": "2c081aa6-ac50-43fc-e715-a0281601fcfb"
      },
      "execution_count": null,
      "outputs": [
        {
          "output_type": "display_data",
          "data": {
            "text/plain": [
              "<Figure size 1080x720 with 1 Axes>"
            ],
            "image/png": "[encoded data removed]"
          },
          "metadata": {
            "needs_background": "light"
          }
        }
      ]
    },
    {
      "cell_type": "markdown",
      "source": [
        "# As we observe that the cost function is decreasing and  cost value decreases suddenly and after some iteration cost value become constant.  \n",
        "# We observe that as alpha value increases convergence rate dicreases. hence more value of alpha take more time to give constant value of cost"
      ],
      "metadata": {
        "id": "V5OG3rDqlPsT"
      }
    },
    {
      "cell_type": "markdown",
      "source": [
        "# **For diffrent values of To**"
      ],
      "metadata": {
        "id": "fd-bs0Sder1V"
      }
    },
    {
      "cell_type": "code",
      "source": [
        "T=np.array([1.5,2,3,5,10])\n",
        "cost_value=[]\n",
        "max_itr=10000\n",
        "alp=0.8\n",
        "for i in range(len(T)):\n",
        "  To= random_intial_solution(11)\n",
        "  optimal=best_solution(To,max_itr,alp,T[i])\n",
        "  print('To is',T[i])\n",
        "  cost_value.append(optimal[3])\n",
        "\n",
        "\n",
        "\n"
      ],
      "metadata": {
        "colab": {
          "base_uri": "https://localhost:8080/"
        },
        "outputId": "0f905e1e-b86f-4b38-8291-e5a897f1b4f6",
        "id": "10hH7C6WfA13"
      },
      "execution_count": null,
      "outputs": [
        {
          "output_type": "stream",
          "name": "stderr",
          "text": [
            "/usr/local/lib/python3.7/dist-packages/ipykernel_launcher.py:3: RuntimeWarning: overflow encountered in true_divide\n",
            "  This is separate from the ipykernel package so we can avoid doing imports until\n"
          ]
        },
        {
          "output_type": "stream",
          "name": "stdout",
          "text": [
            "alpha is 0.8\n",
            "optimal distance for TSP problem [[275.]]\n",
            "optimal route for TSP problem [2, 0, 8, 10, 6, 1, 7, 4, 5, 9, 3]\n",
            "To is 1.5\n",
            "alpha is 0.8\n",
            "optimal distance for TSP problem [[262.]]\n",
            "optimal route for TSP problem [10, 1, 6, 2, 7, 4, 5, 9, 3, 8, 0]\n",
            "To is 2.0\n",
            "alpha is 0.8\n",
            "optimal distance for TSP problem [[280.]]\n",
            "optimal route for TSP problem [6, 2, 4, 5, 9, 3, 7, 0, 8, 1, 10]\n",
            "To is 3.0\n",
            "alpha is 0.8\n",
            "optimal distance for TSP problem [[260.]]\n",
            "optimal route for TSP problem [7, 3, 9, 5, 4, 2, 6, 1, 10, 0, 8]\n",
            "To is 5.0\n",
            "alpha is 0.8\n",
            "optimal distance for TSP problem [[278.]]\n",
            "optimal route for TSP problem [1, 2, 4, 7, 3, 5, 9, 8, 0, 10, 6]\n",
            "To is 10.0\n"
          ]
        }
      ]
    },
    {
      "cell_type": "code",
      "source": [
        "plt.figure(figsize=(15,10))\n",
        "plt.plot(cost_value[0].reshape(len(cost_value[0]),1),color='black',label='To=1,5')\n",
        "plt.plot(cost_value[1].reshape(len(cost_value[1]),1),color='blue',label='To=2')\n",
        "plt.plot(cost_value[2].reshape(len(cost_value[2]),1),color='yellow',label='To=3')\n",
        "plt.plot(cost_value[3].reshape(len(cost_value[3]),1),color='green',label='To=5')\n",
        "plt.plot(cost_value[4].reshape(len(cost_value[4]),1),color='orange',label='To=10')\n",
        "plt.grid()\n",
        "plt.title(r'Cost at diffrent iterations for diffrent To values')\n",
        "plt.xlabel(\"X-axis\")\n",
        "plt.ylabel(\"Y-axis\")\n",
        "plt.legend()\n",
        "plt.show()"
      ],
      "metadata": {
        "colab": {
          "base_uri": "https://localhost:8080/",
          "height": 621
        },
        "outputId": "0aa1dfda-bdfc-4f7b-9ad9-8a2f2aaae9dc",
        "id": "HZVxEcIZfA15"
      },
      "execution_count": null,
      "outputs": [
        {
          "output_type": "display_data",
          "data": {
            "text/plain": [
              "<Figure size 1080x720 with 1 Axes>"
            ],
            "image/png": "[encoded data removed]"
          },
          "metadata": {
            "needs_background": "light"
          }
        }
      ]
    },
    {
      "cell_type": "markdown",
      "source": [
        "# We observe that as To value increases convergence rate dicreases. hence more value of To take more time to give constant value of cost."
      ],
      "metadata": {
        "id": "tip-_qkJg9bm"
      }
    },
    {
      "cell_type": "markdown",
      "source": [
        "# **Ans9**\n",
        "# **We choose Another cooling schedule**  \n",
        "\n",
        "# Temperature = initial_Temperature /(1+ log(Iteration_number + 1))  \n",
        "# Temperature T of the system must be decreased logarithmically according to the equation"
      ],
      "metadata": {
        "id": "228G0TH2YhGi"
      }
    },
    {
      "cell_type": "code",
      "source": [
        "from logging import log\n",
        "def best_solution_schedule(To,max_itr):\n",
        "  k=0\n",
        "  R=To\n",
        "  all_cost=[]\n",
        "  Tk=1\n",
        "  cost_N=[]\n",
        "  best=[]\n",
        "  cost_To=cost(R)\n",
        "  while k<max_itr:\n",
        "    N=neighbours(R)\n",
        "    # R=np.zeros(11)\n",
        "    # print(n)\n",
        "    Tk=Tk/(1+np.log(k+1))\n",
        "    cost_N=cost(N)\n",
        "    # print(min(cost_N))\n",
        "    # print(cost_N,'l')\n",
        "    if cost_N<cost_To:\n",
        "      cost_To=cost_N\n",
        "      R=N\n",
        "      best.append(R)\n",
        "      all_cost.append(cost_To)\n",
        "    else :\n",
        "      cost_To=accept_prob(cost_N,cost_To,Tk)\n",
        "      R=N\n",
        "    k=k+1\n",
        "    # best.append(R)\n",
        "    # all_cost.append(cost_To)\n",
        "  print('optimal distance for TSP problem',min(all_cost))\n",
        "  print('optimal route for TSP problem',best[all_cost.index(min(all_cost))])\n",
        "  return min(all_cost),best[all_cost.index(min(all_cost))], best,np.array(all_cost)\n"
      ],
      "metadata": {
        "id": "1y6GoGppZRna"
      },
      "execution_count": null,
      "outputs": []
    },
    {
      "cell_type": "code",
      "source": [
        "max_itr=30000\n",
        "To= random_intial_solution(11)\n",
        "optimal=best_solution_schedule(To,max_itr)"
      ],
      "metadata": {
        "colab": {
          "base_uri": "https://localhost:8080/"
        },
        "outputId": "cb75b6f9-2147-4d57-c0d1-3f9c0f8481e5",
        "id": "suB61jToZRne"
      },
      "execution_count": null,
      "outputs": [
        {
          "output_type": "stream",
          "name": "stderr",
          "text": [
            "/usr/local/lib/python3.7/dist-packages/ipykernel_launcher.py:3: RuntimeWarning: overflow encountered in true_divide\n",
            "  This is separate from the ipykernel package so we can avoid doing imports until\n",
            "/usr/local/lib/python3.7/dist-packages/ipykernel_launcher.py:3: RuntimeWarning: divide by zero encountered in true_divide\n",
            "  This is separate from the ipykernel package so we can avoid doing imports until\n",
            "/usr/local/lib/python3.7/dist-packages/ipykernel_launcher.py:3: RuntimeWarning: invalid value encountered in true_divide\n",
            "  This is separate from the ipykernel package so we can avoid doing imports until\n"
          ]
        },
        {
          "output_type": "stream",
          "name": "stdout",
          "text": [
            "optimal distance for TSP problem [[257.]]\n",
            "optimal route for TSP problem [1, 6, 2, 4, 3, 5, 9, 7, 0, 8, 10]\n"
          ]
        }
      ]
    },
    {
      "cell_type": "code",
      "source": [
        "plt.figure(figsize=(15,10))\n",
        "plt.plot(optimal[3].reshape(len(optimal[3]),1),color='black',label='alpha=0.8')\n",
        "plt.grid()\n",
        "plt.title(r'Cost at diffrent Schedule ')\n",
        "plt.xlabel(\"X-axis\")\n",
        "plt.ylabel(\"Y-axis\")\n",
        "plt.legend()\n",
        "plt.show()"
      ],
      "metadata": {
        "colab": {
          "base_uri": "https://localhost:8080/",
          "height": 621
        },
        "id": "AkCtF-LZjfX2",
        "outputId": "8baa07c5-26a1-4a0c-fd9d-bcdb87c0c045"
      },
      "execution_count": null,
      "outputs": [
        {
          "output_type": "display_data",
          "data": {
            "text/plain": [
              "<Figure size 1080x720 with 1 Axes>"
            ],
            "image/png": "[encoded data removed]"
          },
          "metadata": {
            "needs_background": "light"
          }
        }
      ]
    },
    {
      "cell_type": "markdown",
      "source": [
        "# By new cooling schedule the graph become more smooth means algorithm does not changes cost value suddenly and temperature decreases slowly. hence it converges smoothly. "
      ],
      "metadata": {
        "id": "xw02B92CkvJM"
      }
    },
    {
      "cell_type": "markdown",
      "source": [
        "# **Ans10**\n",
        "# **Solving for TSP48**"
      ],
      "metadata": {
        "id": "Oi_UoYlePiIs"
      }
    },
    {
      "cell_type": "code",
      "source": [
        "distance_48= np.loadtxt(open('TSP48.csv', \"rb\"),delimiter=\",\")"
      ],
      "metadata": {
        "id": "Uohk7ZOPFi7y"
      },
      "execution_count": null,
      "outputs": []
    },
    {
      "cell_type": "code",
      "source": [
        "def cost_48(T):\n",
        "  cost=[[0]]\n",
        "  for i in range(len(T)-1):\n",
        "    cost=cost+distance_48[T[i],T[i+1]]\n",
        "  cost=cost +distance_48[T[i+1],T[0]]\n",
        "  return cost"
      ],
      "metadata": {
        "id": "oSwPxpCCFhH3"
      },
      "execution_count": null,
      "outputs": []
    },
    {
      "cell_type": "code",
      "source": [
        "def best_solution_48(To,max_itr,alp):\n",
        "  k=0\n",
        "  R=To\n",
        "  all_cost=[]\n",
        "  Tk=1\n",
        "  cost_N=[]\n",
        "  best=[]\n",
        "  cost_To=cost_48(R)\n",
        "  while k<max_itr:\n",
        "    N=neighbours(R)\n",
        "    # R=np.zeros(11)\n",
        "    # print(n)\n",
        "    Tk=alp*Tk\n",
        "    cost_N=cost_48(N)\n",
        "    # print(min(cost_N))\n",
        "    # print(cost_N,'l')\n",
        "    if cost_N<cost_To:\n",
        "      cost_To=cost_N\n",
        "      R=N\n",
        "      best.append(R)\n",
        "      all_cost.append(cost_To)\n",
        "    else :\n",
        "      cost_To=accept_prob(cost_N,cost_To,Tk)\n",
        "      R=N\n",
        "    k=k+1\n",
        "    # best.append(R)\n",
        "    # all_cost.append(cost_To)\n",
        "  print('alpha is',alp)\n",
        "  print('optimal distance for TSP problem',min(all_cost))\n",
        "  print('optimal route for TSP problem',best[all_cost.index(min(all_cost))])\n",
        "  return min(all_cost),best[all_cost.index(min(all_cost))], best,np.array(all_cost)\n"
      ],
      "metadata": {
        "id": "eFJ6YDTqJbWA"
      },
      "execution_count": null,
      "outputs": []
    },
    {
      "cell_type": "code",
      "source": [
        "To= random_intial_solution(48)\n",
        "max_itr=50000\n",
        "alp=0.8\n",
        "optimal=best_solution_48(To,max_itr,alp)"
      ],
      "metadata": {
        "colab": {
          "base_uri": "https://localhost:8080/"
        },
        "id": "Z7UaElUQNzbM",
        "outputId": "40168bcf-354a-4e5d-b430-a8b757d7e2f9"
      },
      "execution_count": null,
      "outputs": [
        {
          "output_type": "stream",
          "name": "stderr",
          "text": [
            "/usr/local/lib/python3.7/dist-packages/ipykernel_launcher.py:3: RuntimeWarning: overflow encountered in true_divide\n",
            "  This is separate from the ipykernel package so we can avoid doing imports until\n"
          ]
        },
        {
          "output_type": "stream",
          "name": "stdout",
          "text": [
            "alpha is 0.8\n",
            "optimal distance for TSP problem [[119281.]]\n",
            "optimal route for TSP problem [18, 34, 4, 24, 16, 30, 11, 13, 26, 21, 2, 45, 31, 12, 28, 25, 15, 44, 3, 42, 27, 32, 19, 20, 38, 23, 9, 1, 40, 10, 6, 8, 39, 47, 7, 36, 5, 37, 0, 14, 35, 22, 33, 41, 46, 17, 29, 43]\n"
          ]
        }
      ]
    },
    {
      "cell_type": "markdown",
      "source": [
        "# **For diffrent values of Alpha**"
      ],
      "metadata": {
        "id": "F01lQdAcPzl1"
      }
    },
    {
      "cell_type": "code",
      "source": [
        "alp=np.array([0.8,0.84,0.88,0.92,0.98])\n",
        "d=len(distance_48)\n",
        "cost_value=[]\n",
        "max_itr=50000\n",
        "T=1\n",
        "for i in range(len(alp)):\n",
        "  To= random_intial_solution(d)\n",
        "  optimal=best_solution_48(To,max_itr,alp[i])\n",
        "  cost_value.append(optimal[3])\n",
        "\n",
        "\n",
        "\n"
      ],
      "metadata": {
        "colab": {
          "base_uri": "https://localhost:8080/"
        },
        "outputId": "3d934151-8fdc-46b8-e62e-1cecf5496c16",
        "id": "VjcbVbbII1hg"
      },
      "execution_count": null,
      "outputs": [
        {
          "output_type": "stream",
          "name": "stderr",
          "text": [
            "/usr/local/lib/python3.7/dist-packages/ipykernel_launcher.py:3: RuntimeWarning: overflow encountered in true_divide\n",
            "  This is separate from the ipykernel package so we can avoid doing imports until\n"
          ]
        },
        {
          "output_type": "stream",
          "name": "stdout",
          "text": [
            "alpha is 0.8\n",
            "optimal distance for TSP problem [[119059.]]\n",
            "optimal route for TSP problem [22, 8, 33, 13, 20, 21, 2, 19, 38, 32, 5, 6, 24, 11, 47, 41, 1, 3, 4, 12, 46, 15, 26, 35, 43, 42, 39, 9, 23, 0, 14, 17, 16, 10, 45, 27, 29, 31, 36, 18, 44, 34, 7, 37, 40, 30, 25, 28]\n",
            "alpha is 0.84\n",
            "optimal distance for TSP problem [[110840.]]\n",
            "optimal route for TSP problem [40, 28, 13, 19, 8, 3, 44, 23, 31, 36, 45, 0, 37, 27, 32, 16, 18, 6, 12, 41, 2, 35, 17, 14, 43, 30, 22, 10, 29, 7, 46, 20, 26, 42, 25, 1, 39, 47, 5, 21, 15, 24, 4, 34, 9, 38, 11, 33]\n",
            "alpha is 0.88\n",
            "optimal distance for TSP problem [[112113.]]\n",
            "optimal route for TSP problem [18, 33, 31, 19, 1, 12, 39, 7, 22, 15, 44, 34, 6, 35, 14, 11, 13, 36, 27, 29, 17, 24, 4, 32, 5, 26, 45, 8, 21, 2, 10, 47, 43, 41, 3, 25, 9, 40, 20, 38, 23, 28, 46, 30, 16, 0, 37, 42]\n",
            "alpha is 0.92\n",
            "optimal distance for TSP problem [[120324.]]\n",
            "optimal route for TSP problem [5, 27, 37, 25, 44, 34, 1, 26, 6, 35, 46, 23, 22, 9, 3, 14, 24, 8, 45, 19, 21, 33, 13, 38, 10, 43, 42, 16, 11, 0, 40, 12, 2, 31, 7, 4, 15, 36, 20, 28, 32, 17, 18, 29, 30, 39, 47, 41]\n",
            "alpha is 0.98\n",
            "optimal distance for TSP problem [[119747.]]\n",
            "optimal route for TSP problem [24, 21, 43, 6, 35, 33, 1, 7, 27, 36, 37, 5, 22, 8, 28, 38, 45, 17, 42, 16, 44, 25, 3, 9, 26, 11, 19, 12, 32, 18, 41, 40, 15, 4, 39, 10, 13, 23, 31, 20, 0, 2, 14, 34, 47, 46, 29, 30]\n"
          ]
        }
      ]
    },
    {
      "cell_type": "code",
      "source": [
        "plt.figure(figsize=(15,10))\n",
        "plt.plot(cost_value[0].reshape(len(cost_value[0]),1),color='black',label='alpha=0.8')\n",
        "plt.plot(cost_value[1].reshape(len(cost_value[1]),1),color='blue',label='alpha=0.84')\n",
        "plt.plot(cost_value[2].reshape(len(cost_value[2]),1),color='yellow',label='alpha=0.88')\n",
        "plt.plot(cost_value[3].reshape(len(cost_value[3]),1),color='green',label='alpha=0.92')\n",
        "plt.plot(cost_value[4].reshape(len(cost_value[4]),1),color='orange',label='alpha=0.98')\n",
        "plt.grid()\n",
        "plt.title(r'Cost at diffrent iterations for diffrent alpha values')\n",
        "plt.xlabel(\"X-axis\")\n",
        "plt.ylabel(\"Y-axis\")\n",
        "plt.legend()\n",
        "plt.show()"
      ],
      "metadata": {
        "colab": {
          "base_uri": "https://localhost:8080/",
          "height": 621
        },
        "outputId": "482c2fb2-f624-478d-ebd3-d711d5d3b365",
        "id": "n6AFuoSXI1h6"
      },
      "execution_count": null,
      "outputs": [
        {
          "output_type": "display_data",
          "data": {
            "text/plain": [
              "<Figure size 1080x720 with 1 Axes>"
            ],
            "image/png": "[encoded data removed]"
          },
          "metadata": {
            "needs_background": "light"
          }
        }
      ]
    },
    {
      "cell_type": "markdown",
      "source": [
        "\n",
        "# **We choose Another cooling schedule for TSP48**  \n",
        "\n",
        "# Temperature = initial_Temperature /(1+ log(Iteration_number + 1)"
      ],
      "metadata": {
        "id": "40g8MWFMOhda"
      }
    },
    {
      "cell_type": "code",
      "source": [
        "def best_solution_shedule_48(To,max_itr):\n",
        "  k=0\n",
        "  R=To\n",
        "  all_cost=[]\n",
        "  Tk=1\n",
        "  cost_N=[]\n",
        "  best=[]\n",
        "  cost_To=cost_48(R)\n",
        "  while k<max_itr:\n",
        "    N=neighbours(R)\n",
        "    # R=np.zeros(11)\n",
        "    # print(n)\n",
        "    Tk=Tk/(1+np.log(k+1))\n",
        "    cost_N=cost_48(N)\n",
        "    # print(min(cost_N))\n",
        "    # print(cost_N,'l')\n",
        "    if cost_N<cost_To:\n",
        "      cost_To=cost_N\n",
        "      R=N\n",
        "      best.append(R)\n",
        "      all_cost.append(cost_To)\n",
        "    else :\n",
        "      cost_To=accept_prob(cost_N,cost_To,Tk)\n",
        "      R=N\n",
        "    k=k+1\n",
        "    # best.append(R)\n",
        "    # all_cost.append(cost_To)\n",
        "  print('optimal distance for TSP problem',min(all_cost))\n",
        "  print('optimal route for TSP problem',best[all_cost.index(min(all_cost))])\n",
        "  return min(all_cost),best[all_cost.index(min(all_cost))], best,np.array(all_cost)\n"
      ],
      "metadata": {
        "id": "5Si83HfXLFB7"
      },
      "execution_count": null,
      "outputs": []
    },
    {
      "cell_type": "code",
      "source": [
        "d=len(distance_48)\n",
        "max_itr=30000\n",
        "To= random_intial_solution(d)\n",
        "optimal=best_solution_shedule_48(To,max_itr)\n",
        "\n",
        "\n",
        "\n"
      ],
      "metadata": {
        "colab": {
          "base_uri": "https://localhost:8080/"
        },
        "outputId": "aaff30e5-1ce6-491e-ef01-ae8e9ed3ca77",
        "id": "bB8nS5GMLFB8"
      },
      "execution_count": null,
      "outputs": [
        {
          "output_type": "stream",
          "name": "stderr",
          "text": [
            "/usr/local/lib/python3.7/dist-packages/ipykernel_launcher.py:3: RuntimeWarning: overflow encountered in true_divide\n",
            "  This is separate from the ipykernel package so we can avoid doing imports until\n",
            "/usr/local/lib/python3.7/dist-packages/ipykernel_launcher.py:3: RuntimeWarning: divide by zero encountered in true_divide\n",
            "  This is separate from the ipykernel package so we can avoid doing imports until\n"
          ]
        },
        {
          "output_type": "stream",
          "name": "stdout",
          "text": [
            "optimal distance for TSP problem [[120597.]]\n",
            "optimal route for TSP problem [35, 16, 17, 33, 38, 24, 31, 15, 0, 2, 32, 26, 11, 4, 10, 39, 43, 19, 34, 23, 18, 13, 3, 1, 28, 22, 8, 46, 29, 14, 6, 5, 36, 42, 37, 44, 47, 45, 30, 27, 12, 25, 7, 21, 40, 9, 41, 20]\n"
          ]
        }
      ]
    },
    {
      "cell_type": "code",
      "source": [
        "plt.figure(figsize=(15,10))\n",
        "plt.plot(optimal[3].reshape(len(optimal[3]),1),color='black',label='alpha=0.8')\n",
        "plt.grid()\n",
        "plt.title(r'Cost at diffrent Schedule ')\n",
        "plt.xlabel(\"X-axis\")\n",
        "plt.ylabel(\"Y-axis\")\n",
        "plt.legend()\n",
        "plt.show()"
      ],
      "metadata": {
        "colab": {
          "base_uri": "https://localhost:8080/",
          "height": 621
        },
        "outputId": "10da485e-4885-49f3-8885-c28cb29331eb",
        "id": "uuba5IhooUNJ"
      },
      "execution_count": null,
      "outputs": [
        {
          "output_type": "display_data",
          "data": {
            "text/plain": [
              "<Figure size 1080x720 with 1 Axes>"
            ],
            "image/png": "[encoded data removed]"
          },
          "metadata": {
            "needs_background": "light"
          }
        }
      ]
    },
    {
      "cell_type": "markdown",
      "source": [
        "# Temperature T of the algorithm  decreased logarithmically according to the plot\n"
      ],
      "metadata": {
        "id": "K2q--KFHpy0o"
      }
    },
    {
      "cell_type": "markdown",
      "metadata": {
        "id": "eCfXWwSUpmIz"
      },
      "source": [
        "# TSP: Traveling Salesman Problem By MILP\n",
        "\n",
        "\n",
        "\n",
        "Luego, el problema a optimizar es el siguiente:\n",
        "$$\\begin{align}\n",
        "\\min \\quad & \\sum_{e\\in E} d_e x_e \\\\\n",
        "\\text{s.t.} \\quad & \\sum_{e=(i,j)\\in E} x_e = 1  &&\\forall i \\in C \\\\\n",
        " & \\sum_{e=(i,j)\\in E} x_e = 1 && \\forall j \\in C  \\\\\n",
        " & u_i + 1 \\leq u_j + M(1-x_{ij})&& \\forall (i,j)\\in E : j\\neq 0 \\\\\n",
        " & x_e \\in \\{0,1\\} && \\forall (i,j)\\in E\\\\\n",
        " & u_i \\geq 0 && \\forall i \\in C\n",
        "\\end{align}$$"
      ]
    },
    {
      "cell_type": "code",
      "source": [
        "!pip install gurobipy"
      ],
      "metadata": {
        "colab": {
          "base_uri": "https://localhost:8080/"
        },
        "id": "lx1rPxljrZye",
        "outputId": "c058bfa6-9c56-405e-ecb9-e481f968e8f6"
      },
      "execution_count": null,
      "outputs": [
        {
          "output_type": "stream",
          "name": "stdout",
          "text": [
            "Looking in indexes: https://pypi.org/simple, https://us-python.pkg.dev/colab-wheels/public/simple/\n",
            "Requirement already satisfied: gurobipy in /usr/local/lib/python3.7/dist-packages (9.5.2)\n"
          ]
        }
      ]
    },
    {
      "cell_type": "code",
      "execution_count": null,
      "metadata": {
        "id": "TXbFMYPLpmI6"
      },
      "outputs": [],
      "source": [
        "import numpy as np\n",
        "import gurobipy as gu\n",
        "from gurobipy import Model, GRB, quicksum\n",
        "import matplotlib.pyplot as plt\n",
        "%matplotlib inline"
      ]
    },
    {
      "cell_type": "code",
      "source": [
        "data_txtfile= np.loadtxt('/content/TSP11.csv', delimiter=',')"
      ],
      "metadata": {
        "id": "4vhoK9uAsGg3"
      },
      "execution_count": null,
      "outputs": []
    },
    {
      "cell_type": "code",
      "execution_count": null,
      "metadata": {
        "id": "F-63lxvGpmI6"
      },
      "outputs": [],
      "source": [
        "n = 10\n",
        "ciudades = [i for i in range(n)]"
      ]
    },
    {
      "cell_type": "code",
      "execution_count": null,
      "metadata": {
        "id": "1wHxlywDpmI7"
      },
      "outputs": [],
      "source": [
        "arcos = [(i, j) for i in ciudades for j in ciudades if i != j]"
      ]
    },
    {
      "cell_type": "code",
      "execution_count": null,
      "metadata": {
        "id": "KcND4v4NpmI7"
      },
      "outputs": [],
      "source": [
        "\n",
        "distancia = {(i, j):data_txtfile[i,j] \n",
        "            for i, j in arcos}"
      ]
    },
    {
      "cell_type": "code",
      "execution_count": null,
      "metadata": {
        "id": "ZEyCgGx8pmI7"
      },
      "outputs": [],
      "source": [
        "mdl = Model('TSP')"
      ]
    },
    {
      "cell_type": "code",
      "execution_count": null,
      "metadata": {
        "id": "x__gKMRIpmI8"
      },
      "outputs": [],
      "source": [
        "x = mdl.addVars(arcos, vtype=GRB.BINARY, name='x')\n",
        "u = mdl.addVars(ciudades, vtype=GRB.CONTINUOUS, name='u')"
      ]
    },
    {
      "cell_type": "markdown",
      "metadata": {
        "id": "GG56hNfRpmI8"
      },
      "source": [
        "$$\\min \\sum_{e\\in E} d_e x_e$$"
      ]
    },
    {
      "cell_type": "code",
      "execution_count": null,
      "metadata": {
        "id": "D6uEnBgspmI9"
      },
      "outputs": [],
      "source": [
        "mdl.setObjective(quicksum(distancia[e] * x[e] for e in arcos), GRB.MINIMIZE)"
      ]
    },
    {
      "cell_type": "markdown",
      "metadata": {
        "id": "fvHxtiClpmI9"
      },
      "source": [
        "$$\\sum_{e=(i,j)\\in E} x_e = 1 \\quad \\forall i \\in C$$"
      ]
    },
    {
      "cell_type": "code",
      "execution_count": null,
      "metadata": {
        "id": "b5FX7s-dpmI-"
      },
      "outputs": [],
      "source": [
        "for c in ciudades:\n",
        "    mdl.addConstr(quicksum(x[(i,j)] for i,j in arcos if i==c)==1, name='out_%d'%c)"
      ]
    },
    {
      "cell_type": "markdown",
      "metadata": {
        "id": "_TivpvwtpmI-"
      },
      "source": [
        "$$\\sum_{e=(i,j)\\in E} x_e = 1 \\quad \\forall j \\in C $$"
      ]
    },
    {
      "cell_type": "code",
      "execution_count": null,
      "metadata": {
        "id": "WJ8IBuwKpmI-"
      },
      "outputs": [],
      "source": [
        "for c in ciudades:\n",
        "    mdl.addConstr(quicksum(x[(i,j)] for i,j in arcos if j==c)==1, name='in_%d'%c)"
      ]
    },
    {
      "cell_type": "markdown",
      "metadata": {
        "id": "ChJMkrU_pmI-"
      },
      "source": [
        "$$u_i + 1 \\leq u_j + M(1-x_{ij}) \\quad \\forall (i,j)\\in E : j\\neq 0$$"
      ]
    },
    {
      "cell_type": "code",
      "execution_count": null,
      "metadata": {
        "id": "yoJgqhQ9pmI_"
      },
      "outputs": [],
      "source": [
        "for i, j in arcos:\n",
        "    if j!=0:\n",
        "        mdl.addConstr((x[(i, j)] == 1) >> (u[i] + 1 == u[j]), name='order_(%d,_%d)'%(i, j))"
      ]
    },
    {
      "cell_type": "code",
      "execution_count": null,
      "metadata": {
        "id": "Y8HzL2sFpmI_",
        "colab": {
          "base_uri": "https://localhost:8080/"
        },
        "outputId": "8eab05a0-f2ff-4aba-dee2-1fd249ba0cad"
      },
      "outputs": [
        {
          "output_type": "execute_result",
          "data": {
            "text/plain": [
              "[0, 8, 7, 2, 4, 3, 5, 9, 1, 6]"
            ]
          },
          "metadata": {},
          "execution_count": 116
        }
      ],
      "source": [
        "tour = [0]\n",
        "while len(tour) < n:\n",
        "    k = tour[-1]\n",
        "    new_dist = {(i, j): d for (i,j), d in distancia.items()\n",
        "                if i==k and j not in tour}\n",
        "    (i, j) = min(new_dist, key=new_dist.get)\n",
        "    tour.append(j)\n",
        "tour"
      ]
    },
    {
      "cell_type": "code",
      "execution_count": null,
      "metadata": {
        "id": "KAiz2lyPpmI_"
      },
      "outputs": [],
      "source": [
        "for g in range(n):\n",
        "    i = tour[g - 1]\n",
        "    j = tour[g]\n",
        "    x[(i,j)].start = 1"
      ]
    },
    {
      "cell_type": "code",
      "execution_count": null,
      "metadata": {
        "id": "VYeENlCApmJA",
        "colab": {
          "base_uri": "https://localhost:8080/"
        },
        "outputId": "2ebfc5a5-7a8d-458d-92b2-737a56b4b9f9"
      },
      "outputs": [
        {
          "output_type": "stream",
          "name": "stdout",
          "text": [
            "Set parameter TimeLimit to value 600\n",
            "Set parameter MIPGap to value 0.2\n",
            "Gurobi Optimizer version 9.5.2 build v9.5.2rc0 (linux64)\n",
            "Thread count: 1 physical cores, 2 logical processors, using up to 2 threads\n",
            "Optimize a model with 20 rows, 100 columns and 180 nonzeros\n",
            "Model fingerprint: 0xf94768d3\n",
            "Model has 81 general constraints\n",
            "Variable types: 10 continuous, 90 integer (90 binary)\n",
            "Coefficient statistics:\n",
            "  Matrix range     [1e+00, 1e+00]\n",
            "  Objective range  [3e+00, 1e+02]\n",
            "  Bounds range     [1e+00, 1e+00]\n",
            "  RHS range        [1e+00, 1e+00]\n",
            "  GenCon rhs range [1e+00, 1e+00]\n",
            "  GenCon coe range [1e+00, 1e+00]\n",
            "\n",
            "User MIP start produced solution with objective 274 (0.02s)\n",
            "Loaded user MIP start with objective 274\n",
            "\n",
            "Presolve added 81 rows and 81 columns\n",
            "Presolve time: 0.00s\n",
            "Presolved: 101 rows, 181 columns, 387 nonzeros\n",
            "Presolved model has 81 SOS constraint(s)\n",
            "Variable types: 91 continuous, 90 integer (90 binary)\n",
            "\n",
            "Root relaxation: objective 1.840000e+02, 12 iterations, 0.00 seconds (0.00 work units)\n",
            "\n",
            "    Nodes    |    Current Node    |     Objective Bounds      |     Work\n",
            " Expl Unexpl |  Obj  Depth IntInf | Incumbent    BestBd   Gap | It/Node Time\n",
            "\n",
            "     0     0  184.00000    0    9  274.00000  184.00000  32.8%     -    0s\n",
            "     0     0  184.00000    0    9  274.00000  184.00000  32.8%     -    0s\n",
            "     0     2  205.00000    0    9  274.00000  205.00000  25.2%     -    0s\n",
            "H   40    24                     260.0000000  205.00000  21.2%   1.5    0s\n",
            "*   50    20              13     259.0000000  205.00000  20.8%   1.5    0s\n",
            "H   96    44                     254.0000000  207.00000  18.5%   1.5    0s\n",
            "\n",
            "Explored 97 nodes (158 simplex iterations) in 0.10 seconds (0.01 work units)\n",
            "Thread count was 2 (of 2 available processors)\n",
            "\n",
            "Solution count 4: 254 259 260 274 \n",
            "\n",
            "Optimal solution found (tolerance 2.00e-01)\n",
            "Best objective 2.540000000000e+02, best bound 2.070000000000e+02, gap 18.5039%\n"
          ]
        }
      ],
      "source": [
        "mdl.Params.timeLimit = 600\n",
        "mdl.Params.MIPGap = 0.2\n",
        "mdl.optimize()"
      ]
    },
    {
      "cell_type": "code",
      "execution_count": null,
      "metadata": {
        "scrolled": true,
        "id": "s7jFqzDtpmJA",
        "colab": {
          "base_uri": "https://localhost:8080/"
        },
        "outputId": "708af850-e6a6-4f40-9d2e-49526fe45613"
      },
      "outputs": [
        {
          "output_type": "execute_result",
          "data": {
            "text/plain": [
              "({(0, 1): <gurobi.Var x[0,1] (value -0.0)>,\n",
              "  (0, 2): <gurobi.Var x[0,2] (value -0.0)>,\n",
              "  (0, 3): <gurobi.Var x[0,3] (value -0.0)>,\n",
              "  (0, 4): <gurobi.Var x[0,4] (value -0.0)>,\n",
              "  (0, 5): <gurobi.Var x[0,5] (value -0.0)>,\n",
              "  (0, 6): <gurobi.Var x[0,6] (value -0.0)>,\n",
              "  (0, 7): <gurobi.Var x[0,7] (value 0.0)>,\n",
              "  (0, 8): <gurobi.Var x[0,8] (value 1.0)>,\n",
              "  (0, 9): <gurobi.Var x[0,9] (value -0.0)>,\n",
              "  (1, 0): <gurobi.Var x[1,0] (value -0.0)>,\n",
              "  (1, 2): <gurobi.Var x[1,2] (value 0.0)>,\n",
              "  (1, 3): <gurobi.Var x[1,3] (value -0.0)>,\n",
              "  (1, 4): <gurobi.Var x[1,4] (value -0.0)>,\n",
              "  (1, 5): <gurobi.Var x[1,5] (value -0.0)>,\n",
              "  (1, 6): <gurobi.Var x[1,6] (value 1.0)>,\n",
              "  (1, 7): <gurobi.Var x[1,7] (value -0.0)>,\n",
              "  (1, 8): <gurobi.Var x[1,8] (value -0.0)>,\n",
              "  (1, 9): <gurobi.Var x[1,9] (value -0.0)>,\n",
              "  (2, 0): <gurobi.Var x[2,0] (value 0.0)>,\n",
              "  (2, 1): <gurobi.Var x[2,1] (value -0.0)>,\n",
              "  (2, 3): <gurobi.Var x[2,3] (value -0.0)>,\n",
              "  (2, 4): <gurobi.Var x[2,4] (value -0.0)>,\n",
              "  (2, 5): <gurobi.Var x[2,5] (value 1.0)>,\n",
              "  (2, 6): <gurobi.Var x[2,6] (value 0.0)>,\n",
              "  (2, 7): <gurobi.Var x[2,7] (value -0.0)>,\n",
              "  (2, 8): <gurobi.Var x[2,8] (value -0.0)>,\n",
              "  (2, 9): <gurobi.Var x[2,9] (value 0.0)>,\n",
              "  (3, 0): <gurobi.Var x[3,0] (value -0.0)>,\n",
              "  (3, 1): <gurobi.Var x[3,1] (value -0.0)>,\n",
              "  (3, 2): <gurobi.Var x[3,2] (value -0.0)>,\n",
              "  (3, 4): <gurobi.Var x[3,4] (value 1.0)>,\n",
              "  (3, 5): <gurobi.Var x[3,5] (value -0.0)>,\n",
              "  (3, 6): <gurobi.Var x[3,6] (value -0.0)>,\n",
              "  (3, 7): <gurobi.Var x[3,7] (value 0.0)>,\n",
              "  (3, 8): <gurobi.Var x[3,8] (value -0.0)>,\n",
              "  (3, 9): <gurobi.Var x[3,9] (value -0.0)>,\n",
              "  (4, 0): <gurobi.Var x[4,0] (value 1.0)>,\n",
              "  (4, 1): <gurobi.Var x[4,1] (value -0.0)>,\n",
              "  (4, 2): <gurobi.Var x[4,2] (value -0.0)>,\n",
              "  (4, 3): <gurobi.Var x[4,3] (value 0.0)>,\n",
              "  (4, 5): <gurobi.Var x[4,5] (value -0.0)>,\n",
              "  (4, 6): <gurobi.Var x[4,6] (value -0.0)>,\n",
              "  (4, 7): <gurobi.Var x[4,7] (value -0.0)>,\n",
              "  (4, 8): <gurobi.Var x[4,8] (value -0.0)>,\n",
              "  (4, 9): <gurobi.Var x[4,9] (value -0.0)>,\n",
              "  (5, 0): <gurobi.Var x[5,0] (value -0.0)>,\n",
              "  (5, 1): <gurobi.Var x[5,1] (value -0.0)>,\n",
              "  (5, 2): <gurobi.Var x[5,2] (value -0.0)>,\n",
              "  (5, 3): <gurobi.Var x[5,3] (value 0.0)>,\n",
              "  (5, 4): <gurobi.Var x[5,4] (value -0.0)>,\n",
              "  (5, 6): <gurobi.Var x[5,6] (value -0.0)>,\n",
              "  (5, 7): <gurobi.Var x[5,7] (value -0.0)>,\n",
              "  (5, 8): <gurobi.Var x[5,8] (value -0.0)>,\n",
              "  (5, 9): <gurobi.Var x[5,9] (value 1.0)>,\n",
              "  (6, 0): <gurobi.Var x[6,0] (value -0.0)>,\n",
              "  (6, 1): <gurobi.Var x[6,1] (value -0.0)>,\n",
              "  (6, 2): <gurobi.Var x[6,2] (value 1.0)>,\n",
              "  (6, 3): <gurobi.Var x[6,3] (value -0.0)>,\n",
              "  (6, 4): <gurobi.Var x[6,4] (value -0.0)>,\n",
              "  (6, 5): <gurobi.Var x[6,5] (value -0.0)>,\n",
              "  (6, 7): <gurobi.Var x[6,7] (value -0.0)>,\n",
              "  (6, 8): <gurobi.Var x[6,8] (value -0.0)>,\n",
              "  (6, 9): <gurobi.Var x[6,9] (value -0.0)>,\n",
              "  (7, 0): <gurobi.Var x[7,0] (value -0.0)>,\n",
              "  (7, 1): <gurobi.Var x[7,1] (value 1.0)>,\n",
              "  (7, 2): <gurobi.Var x[7,2] (value 0.0)>,\n",
              "  (7, 3): <gurobi.Var x[7,3] (value 0.0)>,\n",
              "  (7, 4): <gurobi.Var x[7,4] (value -0.0)>,\n",
              "  (7, 5): <gurobi.Var x[7,5] (value -0.0)>,\n",
              "  (7, 6): <gurobi.Var x[7,6] (value -0.0)>,\n",
              "  (7, 8): <gurobi.Var x[7,8] (value -0.0)>,\n",
              "  (7, 9): <gurobi.Var x[7,9] (value -0.0)>,\n",
              "  (8, 0): <gurobi.Var x[8,0] (value 0.0)>,\n",
              "  (8, 1): <gurobi.Var x[8,1] (value -0.0)>,\n",
              "  (8, 2): <gurobi.Var x[8,2] (value -0.0)>,\n",
              "  (8, 3): <gurobi.Var x[8,3] (value -0.0)>,\n",
              "  (8, 4): <gurobi.Var x[8,4] (value -0.0)>,\n",
              "  (8, 5): <gurobi.Var x[8,5] (value -0.0)>,\n",
              "  (8, 6): <gurobi.Var x[8,6] (value -0.0)>,\n",
              "  (8, 7): <gurobi.Var x[8,7] (value 1.0)>,\n",
              "  (8, 9): <gurobi.Var x[8,9] (value -0.0)>,\n",
              "  (9, 0): <gurobi.Var x[9,0] (value -0.0)>,\n",
              "  (9, 1): <gurobi.Var x[9,1] (value -0.0)>,\n",
              "  (9, 2): <gurobi.Var x[9,2] (value -0.0)>,\n",
              "  (9, 3): <gurobi.Var x[9,3] (value 1.0)>,\n",
              "  (9, 4): <gurobi.Var x[9,4] (value -0.0)>,\n",
              "  (9, 5): <gurobi.Var x[9,5] (value -0.0)>,\n",
              "  (9, 6): <gurobi.Var x[9,6] (value -0.0)>,\n",
              "  (9, 7): <gurobi.Var x[9,7] (value -0.0)>,\n",
              "  (9, 8): <gurobi.Var x[9,8] (value -0.0)>},\n",
              " {0: <gurobi.Var u[0] (value 0.0)>,\n",
              "  1: <gurobi.Var u[1] (value 3.0)>,\n",
              "  2: <gurobi.Var u[2] (value 5.0)>,\n",
              "  3: <gurobi.Var u[3] (value 8.0)>,\n",
              "  4: <gurobi.Var u[4] (value 9.0)>,\n",
              "  5: <gurobi.Var u[5] (value 6.0)>,\n",
              "  6: <gurobi.Var u[6] (value 4.0)>,\n",
              "  7: <gurobi.Var u[7] (value 2.0)>,\n",
              "  8: <gurobi.Var u[8] (value 1.0)>,\n",
              "  9: <gurobi.Var u[9] (value 7.0)>})"
            ]
          },
          "metadata": {},
          "execution_count": 119
        }
      ],
      "source": [
        "x, u"
      ]
    },
    {
      "cell_type": "code",
      "execution_count": null,
      "metadata": {
        "id": "lxop85fSpmJA",
        "colab": {
          "base_uri": "https://localhost:8080/",
          "height": 269
        },
        "outputId": "ef5250dc-68a2-4f33-be12-9a8e84a865c8"
      },
      "outputs": [
        {
          "output_type": "display_data",
          "data": {
            "text/plain": [
              "<Figure size 432x288 with 1 Axes>"
            ],
            "image/png": "[encoded data removed]"
          },
          "metadata": {
            "needs_background": "light"
          }
        }
      ],
      "source": [
        "arcos_activos = [e for e in arcos if x[e].x > 0.9]\n",
        "for i,j in arcos_activos:\n",
        "    plt.plot([coord_x[i],coord_x[j]],[coord_y[i],coord_y[j]],\n",
        "              color='b', alpha=0.4, zorder=0)\n",
        "plt.scatter(x=coord_x, y=coord_y, color='r', zorder=1)\n",
        "for i in ciudades:\n",
        "    plt.annotate(i,(coord_x[i]+1,coord_y[i]+1))\n",
        "plt.xlim((0,100))\n",
        "plt.ylim((0,100))\n",
        "plt.show()"
      ]
    },
    {
      "cell_type": "code",
      "source": [
        "OP_MILP=254\n",
        "OP_SIMULATION=265\n",
        "ERR_PERCENT=((OP_SIMULATION-OP_MILP)/OP_MILP)*100\n",
        "ERR_PERCENT"
      ],
      "metadata": {
        "colab": {
          "base_uri": "https://localhost:8080/"
        },
        "id": "GkIna86MbWlS",
        "outputId": "e8e88b2b-8457-4a8b-b418-258febdcbff5"
      },
      "execution_count": 3,
      "outputs": [
        {
          "output_type": "execute_result",
          "data": {
            "text/plain": [
              "4.330708661417323"
            ]
          },
          "metadata": {},
          "execution_count": 3
        }
      ]
    }
  ]
}